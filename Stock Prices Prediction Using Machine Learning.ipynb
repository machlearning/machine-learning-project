{
 "cells": [
  {
   "cell_type": "markdown",
   "metadata": {},
   "source": [
    "# Stock Prices Prediction Using Machine Learning\n"
   ]
  },
  {
   "cell_type": "markdown",
   "metadata": {},
   "source": [
    "Financial markets have a vital role in the development of modern society. They allow the deployment of economic resources. Changes in stock prices reflect changes in the market. In this study, we focus on predicting stock prices by deep learning model."
   ]
  },
  {
   "cell_type": "markdown",
   "metadata": {},
   "source": [
    "## Importing packages\n",
    "* #### Keras \n",
    "Keras is an open-source neural-network library written in Python. It is capable of running on top of TensorFlow, Microsoft Cognitive Toolkit, R, Theano, or PlaidML. Designed to enable fast experimentation with deep neural networks, it focuses on being user-friendly, modular, and extensible.\n",
    "In our project we will used on top of TensorFlow.\n",
    "\n",
    "* #### Scikit-learn \n",
    "Scikit-learn is a library in Python that provides many unsupervised and supervised learning algorithms.\n",
    "\n",
    "* #### Pandas \n",
    "Pandas is a popular Python package for data science, and with good reason: it offers powerful, expressive and flexible data structures that make data manipulation and analysis easy, among many other things. The DataFrame is one of these structures."
   ]
  },
  {
   "cell_type": "code",
   "execution_count": 131,
   "metadata": {},
   "outputs": [],
   "source": [
    "import pandas as pd\n",
    "import numpy as np\n",
    "import matplotlib.pyplot as plt\n",
    "from sklearn.preprocessing import MinMaxScaler\n",
    "from keras.models import Sequential\n",
    "import keras\n",
    "from keras.layers import Dense, Dropout, LSTM"
   ]
  },
  {
   "cell_type": "markdown",
   "metadata": {},
   "source": [
    "## Importing data\n",
    "We import an historical data of the stock price of Google from finance.yahoo.com"
   ]
  },
  {
   "cell_type": "code",
   "execution_count": 132,
   "metadata": {},
   "outputs": [
    {
     "data": {
      "text/html": [
       "<div>\n",
       "<style scoped>\n",
       "    .dataframe tbody tr th:only-of-type {\n",
       "        vertical-align: middle;\n",
       "    }\n",
       "\n",
       "    .dataframe tbody tr th {\n",
       "        vertical-align: top;\n",
       "    }\n",
       "\n",
       "    .dataframe thead th {\n",
       "        text-align: right;\n",
       "    }\n",
       "</style>\n",
       "<table border=\"1\" class=\"dataframe\">\n",
       "  <thead>\n",
       "    <tr style=\"text-align: right;\">\n",
       "      <th></th>\n",
       "      <th>Date</th>\n",
       "      <th>Open</th>\n",
       "      <th>High</th>\n",
       "      <th>Low</th>\n",
       "      <th>Close</th>\n",
       "      <th>Adj Close</th>\n",
       "      <th>Volume</th>\n",
       "    </tr>\n",
       "  </thead>\n",
       "  <tbody>\n",
       "    <tr>\n",
       "      <th>0</th>\n",
       "      <td>2019-03-26</td>\n",
       "      <td>1205.189941</td>\n",
       "      <td>1207.650024</td>\n",
       "      <td>1181.760010</td>\n",
       "      <td>1189.839966</td>\n",
       "      <td>1189.839966</td>\n",
       "      <td>1537600</td>\n",
       "    </tr>\n",
       "    <tr>\n",
       "      <th>1</th>\n",
       "      <td>2019-03-27</td>\n",
       "      <td>1191.920044</td>\n",
       "      <td>1191.920044</td>\n",
       "      <td>1164.229980</td>\n",
       "      <td>1178.010010</td>\n",
       "      <td>1178.010010</td>\n",
       "      <td>1471400</td>\n",
       "    </tr>\n",
       "    <tr>\n",
       "      <th>2</th>\n",
       "      <td>2019-03-28</td>\n",
       "      <td>1175.500000</td>\n",
       "      <td>1177.250000</td>\n",
       "      <td>1163.430054</td>\n",
       "      <td>1172.270020</td>\n",
       "      <td>1172.270020</td>\n",
       "      <td>1120100</td>\n",
       "    </tr>\n",
       "    <tr>\n",
       "      <th>3</th>\n",
       "      <td>2019-03-29</td>\n",
       "      <td>1180.180054</td>\n",
       "      <td>1183.969971</td>\n",
       "      <td>1166.380005</td>\n",
       "      <td>1176.890015</td>\n",
       "      <td>1176.890015</td>\n",
       "      <td>1544500</td>\n",
       "    </tr>\n",
       "    <tr>\n",
       "      <th>4</th>\n",
       "      <td>2019-04-01</td>\n",
       "      <td>1187.540039</td>\n",
       "      <td>1200.199951</td>\n",
       "      <td>1186.359985</td>\n",
       "      <td>1198.979980</td>\n",
       "      <td>1198.979980</td>\n",
       "      <td>1385300</td>\n",
       "    </tr>\n",
       "  </tbody>\n",
       "</table>\n",
       "</div>"
      ],
      "text/plain": [
       "         Date         Open         High          Low        Close  \\\n",
       "0  2019-03-26  1205.189941  1207.650024  1181.760010  1189.839966   \n",
       "1  2019-03-27  1191.920044  1191.920044  1164.229980  1178.010010   \n",
       "2  2019-03-28  1175.500000  1177.250000  1163.430054  1172.270020   \n",
       "3  2019-03-29  1180.180054  1183.969971  1166.380005  1176.890015   \n",
       "4  2019-04-01  1187.540039  1200.199951  1186.359985  1198.979980   \n",
       "\n",
       "     Adj Close   Volume  \n",
       "0  1189.839966  1537600  \n",
       "1  1178.010010  1471400  \n",
       "2  1172.270020  1120100  \n",
       "3  1176.890015  1544500  \n",
       "4  1198.979980  1385300  "
      ]
     },
     "execution_count": 132,
     "metadata": {},
     "output_type": "execute_result"
    }
   ],
   "source": [
    "df = pd.read_csv('GOOGL.csv')\n",
    "df.head()"
   ]
  },
  {
   "cell_type": "markdown",
   "metadata": {},
   "source": [
    "* Meaning of open-high-low-close  :\n",
    "    * Open Price : The Stock at which opens at the start of market\n",
    "    * High price : The particular stock which made high during that particular day\n",
    "    * Low Price : The Particular stock which made Low during that particular day\n",
    "    * Close Price : The stock closing at the end of the Market hours"
   ]
  },
  {
   "cell_type": "markdown",
   "metadata": {},
   "source": [
    "## Ploting the data"
   ]
  },
  {
   "cell_type": "code",
   "execution_count": 133,
   "metadata": {},
   "outputs": [
    {
     "data": {
      "text/plain": [
       "[<matplotlib.lines.Line2D at 0x14412b630>]"
      ]
     },
     "execution_count": 133,
     "metadata": {},
     "output_type": "execute_result"
    },
    {
     "data": {
      "image/png": "[encoded data removed]",
      "text/plain": [
       "<Figure size 1152x576 with 1 Axes>"
      ]
     },
     "metadata": {
      "needs_background": "light"
     },
     "output_type": "display_data"
    }
   ],
   "source": [
    "df['Date'] = pd.to_datetime(df.Date,format='%Y-%m-%d')\n",
    "df.index = df['Date']\n",
    "plt.figure(figsize=(16,8))\n",
    "plt.plot(df['Close'], label='Close Price')"
   ]
  },
  {
   "cell_type": "markdown",
   "metadata": {},
   "source": [
    "## Split training and test sets\n",
    "\n",
    "* 75% for training\n",
    "* 25% for test"
   ]
  },
  {
   "cell_type": "code",
   "execution_count": 134,
   "metadata": {},
   "outputs": [],
   "source": [
    "seriesdata = todataframe.sort_index(ascending=True, axis=0)\n",
    "new_seriesdata = pd.DataFrame(index=range(0,len(todataframe)),columns=['Date','Close'])\n",
    "length_of_data=len(seriesdata)\n",
    "for i in range(0,length_of_data):\n",
    "    new_seriesdata['Date'][i] = seriesdata['Date'][i]\n",
    "    new_seriesdata['Close'][i] = seriesdata['Close'][i]\n",
    "\n",
    "new_seriesdata.index = new_seriesdata.Date\n",
    "new_seriesdata.drop('Date', axis=1, inplace=True)\n",
    "\n",
    "myseriesdataset = new_seriesdata.values\n",
    "totrain = myseriesdataset[0:int(len(seriesdata)*0.75),:]\n",
    "totest = myseriesdataset[int(len(seriesdata)*0.75):,:]\n",
    "\n",
    "scalerdata = MinMaxScaler(feature_range=(0, 1))\n",
    "scale_data = scalerdata.fit_transform(myseriesdataset)\n",
    "x_totrain, y_totrain = [], []\n",
    "length_of_totrain=len(totrain)\n",
    "for i in range(60,length_of_totrain):\n",
    "    x_totrain.append(scale_data[i-60:i,0])\n",
    "    y_totrain.append(scale_data[i,0])\n",
    "x_totrain, y_totrain = np.array(x_totrain), np.array(y_totrain)\n",
    "x_totrain = np.reshape(x_totrain, (x_totrain.shape[0],x_totrain.shape[1],1))"
   ]
  },
  {
   "cell_type": "markdown",
   "metadata": {},
   "source": [
    "## LSTM\n",
    "LSTM stands for long short term memory. It is a model or architecture that extends the memory of recurrent neural networks. Typically, recurrent neural networks have ‘short term memory’ in that they use persistent previous information to be used in the current neural network. Essentially, the previous information is used in the present task. That means we do not have a list of all of the previous information available for the neural node.\n",
    "\n",
    "### How it works\n",
    "\n",
    "LSTM introduces long-term memory into recurrent neural networks. It mitigates the vanishing gradient problem, which is where the neural network stops learning because the updates to the various weights within a given neural network become smaller and smaller. It does this by using a series of ‘gates’. These are contained in memory blocks which are connected through layers, like this:\n",
    "\n",
    "![alt text](lstm-diagram.png \"LSTM\")\n",
    "\n",
    "There are three types of gates within a unit:\n",
    "\n",
    "* Input Gate: Scales input to cell (write)\n",
    "* Output Gate: Scales output to cell (read)\n",
    "* Forget Gate: Scales old cell value (reset)\n",
    "* Each gate is like a switch that controls the read/write, thus incorporating the long-term memory function into the model."
   ]
  },
  {
   "cell_type": "code",
   "execution_count": 157,
   "metadata": {},
   "outputs": [
    {
     "name": "stdout",
     "output_type": "stream",
     "text": [
      "Epoch 1/3\n",
      " - 6s - loss: 0.0074\n",
      "Epoch 2/3\n",
      " - 5s - loss: 0.0041\n",
      "Epoch 3/3\n",
      " - 5s - loss: 0.0041\n"
     ]
    },
    {
     "data": {
      "text/plain": [
       "<keras.callbacks.callbacks.History at 0x1453c49b0>"
      ]
     },
     "execution_count": 157,
     "metadata": {},
     "output_type": "execute_result"
    }
   ],
   "source": [
    "lstm_model = Sequential()\n",
    "lstm_model.add(LSTM(units=50, return_sequences=True, input_shape=(x_totrain.shape[1],1)))\n",
    "lstm_model.add(LSTM(units=50))\n",
    "lstm_model.add(Dense(1))\n",
    "lstm_model.compile(loss='mean_squared_error', optimizer='adadelta')\n",
    "lstm_model.fit(x_totrain, y_totrain, epochs=3, batch_size=1, verbose=2)"
   ]
  },
  {
   "cell_type": "markdown",
   "metadata": {},
   "source": [
    "## Predicting stock price"
   ]
  },
  {
   "cell_type": "code",
   "execution_count": 158,
   "metadata": {},
   "outputs": [],
   "source": [
    "inputs = new_seriesdata[len(new_seriesdata) - (len(totest)) - 60:].values\n",
    "inputs = inputs.reshape(-1,1)\n",
    "inputs  = scalerdata.transform(inputs)\n",
    "tostore_test_result = []\n",
    "for i in range(60,inputs.shape[0]):\n",
    "    tostore_test_result.append(inputs[i-60:i,0])\n",
    "tostore_test_result = np.array(tostore_test_result)\n",
    "tostore_test_result = np.reshape(tostore_test_result,(tostore_test_result.shape[0],tostore_test_result.shape[1],1))\n",
    "myclosing_priceresult = lstm_model.predict(tostore_test_result)\n",
    "myclosing_priceresult = scalerdata.inverse_transform(myclosing_priceresult)"
   ]
  },
  {
   "cell_type": "markdown",
   "metadata": {},
   "source": [
    "#### Predicted result"
   ]
  },
  {
   "cell_type": "code",
   "execution_count": 161,
   "metadata": {},
   "outputs": [
    {
     "data": {
      "text/plain": [
       "array([[1324.3269],\n",
       "       [1326.29  ],\n",
       "       [1327.8483],\n",
       "       [1328.8257],\n",
       "       [1330.1183],\n",
       "       [1331.2213],\n",
       "       [1331.5594],\n",
       "       [1331.393 ],\n",
       "       [1332.0919],\n",
       "       [1332.9993],\n",
       "       [1335.457 ],\n",
       "       [1338.634 ],\n",
       "       [1342.5059],\n",
       "       [1347.1946],\n",
       "       [1352.5103],\n",
       "       [1358.379 ],\n",
       "       [1363.9153],\n",
       "       [1369.3086],\n",
       "       [1374.7568],\n",
       "       [1381.0973],\n",
       "       [1387.7506],\n",
       "       [1394.3246],\n",
       "       [1400.5417],\n",
       "       [1405.5087],\n",
       "       [1408.1437],\n",
       "       [1409.9393],\n",
       "       [1411.3328],\n",
       "       [1412.3158],\n",
       "       [1412.1761],\n",
       "       [1413.2788],\n",
       "       [1413.6202],\n",
       "       [1413.5483],\n",
       "       [1414.3578],\n",
       "       [1415.7665],\n",
       "       [1418.611 ],\n",
       "       [1422.2217],\n",
       "       [1426.4521],\n",
       "       [1430.6392],\n",
       "       [1434.7909],\n",
       "       [1438.7238],\n",
       "       [1442.5225],\n",
       "       [1445.7428],\n",
       "       [1447.2017],\n",
       "       [1445.1399],\n",
       "       [1439.759 ],\n",
       "       [1432.722 ],\n",
       "       [1422.0505],\n",
       "       [1410.6089],\n",
       "       [1401.0427],\n",
       "       [1391.1838],\n",
       "       [1383.4065],\n",
       "       [1374.6176],\n",
       "       [1364.9064],\n",
       "       [1351.8518],\n",
       "       [1339.7319],\n",
       "       [1326.1321],\n",
       "       [1308.2218],\n",
       "       [1292.6388],\n",
       "       [1273.4456],\n",
       "       [1254.7505],\n",
       "       [1236.1423],\n",
       "       [1219.3295],\n",
       "       [1202.6725]], dtype=float32)"
      ]
     },
     "execution_count": 161,
     "metadata": {},
     "output_type": "execute_result"
    }
   ],
   "source": [
    "myclosing_priceresult"
   ]
  },
  {
   "cell_type": "code",
   "execution_count": null,
   "metadata": {},
   "outputs": [],
   "source": []
  }
 ],
 "metadata": {
  "kernelspec": {
   "display_name": "Python 3",
   "language": "python",
   "name": "python3"
  },
  "language_info": {
   "codemirror_mode": {
    "name": "ipython",
    "version": 3
   },
   "file_extension": ".py",
   "mimetype": "text/x-python",
   "name": "python",
   "nbconvert_exporter": "python",
   "pygments_lexer": "ipython3",
   "version": "3.6.8"
  }
 },
 "nbformat": 4,
 "nbformat_minor": 4
}
